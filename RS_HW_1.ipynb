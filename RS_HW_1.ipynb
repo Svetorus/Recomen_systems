{
  "nbformat": 4,
  "nbformat_minor": 0,
  "metadata": {
    "kernelspec": {
      "display_name": "Python 3",
      "language": "python",
      "name": "python3"
    },
    "language_info": {
      "codemirror_mode": {
        "name": "ipython",
        "version": 3
      },
      "file_extension": ".py",
      "mimetype": "text/x-python",
      "name": "python",
      "nbconvert_exporter": "python",
      "pygments_lexer": "ipython3",
      "version": "3.7.0"
    },
    "colab": {
      "name": "RS_HW_1.ipynb",
      "provenance": [],
      "collapsed_sections": [],
      "include_colab_link": true
    }
  },
  "cells": [
    {
      "cell_type": "markdown",
      "metadata": {
        "id": "view-in-github",
        "colab_type": "text"
      },
      "source": [
        "<a href=\"https://colab.research.google.com/github/Svetorus/Recomen_systems/blob/master/RS_HW_1.ipynb\" target=\"_parent\"><img src=\"https://colab.research.google.com/assets/colab-badge.svg\" alt=\"Open In Colab\"/></a>"
      ]
    },
    {
      "cell_type": "markdown",
      "metadata": {
        "id": "Y-AbIYjZD53k",
        "colab_type": "text"
      },
      "source": [
        "# 2. ML-mетрики качества"
      ]
    },
    {
      "cell_type": "markdown",
      "metadata": {
        "id": "0zXnHLufD53l",
        "colab_type": "text"
      },
      "source": [
        "*Хороши ли рекомендации, предлагаемые моделью?*  \n",
        "Обычно считаются для каждого юзера, затем усредняются по юзерам"
      ]
    },
    {
      "cell_type": "markdown",
      "metadata": {
        "id": "BxfktMpwD53l",
        "colab_type": "text"
      },
      "source": [
        "Представим, что в магазине всего 10 товаров"
      ]
    },
    {
      "cell_type": "code",
      "metadata": {
        "id": "U0VJJtLpD53i",
        "colab_type": "code",
        "colab": {}
      },
      "source": [
        "import numpy as np"
      ],
      "execution_count": null,
      "outputs": []
    },
    {
      "cell_type": "code",
      "metadata": {
        "id": "HWyvCA-fD53l",
        "colab_type": "code",
        "colab": {}
      },
      "source": [
        "recommended_list = [143, 156, 1134, 991, 27, 1543, 3345, 533, 11, 43] #id товаров\n",
        "bought_list = [521, 32, 143, 991]\n",
        "prices_recommended = [100, 200, 300, 250, 150, 80, 220, 180, 130, 270]"
      ],
      "execution_count": null,
      "outputs": []
    },
    {
      "cell_type": "markdown",
      "metadata": {
        "id": "FiwqBxYPD53n",
        "colab_type": "text"
      },
      "source": [
        "### 1. Hit rate\n",
        "\n",
        "Hit rate = был ли хотя бы 1 релевантный товар среди рекомендованных\n",
        "\n",
        "- Иногда применяется, когда продаются достаточно дрогие товары (например, бытовая техника) \n",
        "\n",
        "----\n",
        "Hit rate = (был ли хотя бы 1 релевантный товар среди рекомендованных)   \n",
        "\n",
        "Hit rate@k = (был ли хотя бы 1 релевантный товар среди топ-k рекомендованных)"
      ]
    },
    {
      "cell_type": "code",
      "metadata": {
        "id": "HAcssEO9D53o",
        "colab_type": "code",
        "colab": {}
      },
      "source": [
        "def hit_rate(recommended_list, bought_list):\n",
        "    \n",
        "    bought_list = np.array(bought_list)\n",
        "    recommended_list = np.array(recommended_list)\n",
        "    \n",
        "    flags = np.isin(bought_list, recommended_list)\n",
        "    \n",
        "    hit_rate = (flags.sum() > 0) * 1\n",
        "    \n",
        "    return hit_rate\n",
        "\n",
        "\n",
        "def hit_rate_at_k(recommended_list, bought_list, k=5):\n",
        "    \n",
        "    # your_code\n",
        "    bought_list = np.array(bought_list)\n",
        "    recommended_list = np.array(recommended_list[:k])\n",
        "    \n",
        "    flags = np.isin(bought_list, recommended_list)\n",
        "    \n",
        "    hit_rate = (flags.sum() > 0) * 1\n",
        "    \n",
        "    return hit_rate"
      ],
      "execution_count": null,
      "outputs": []
    },
    {
      "cell_type": "code",
      "metadata": {
        "id": "6AV5wPUmD53p",
        "colab_type": "code",
        "colab": {},
        "outputId": "d392f80b-5133-42e4-89f7-49222692269b"
      },
      "source": [
        "hit_rate(recommended_list, bought_list)"
      ],
      "execution_count": null,
      "outputs": [
        {
          "output_type": "execute_result",
          "data": {
            "text/plain": [
              "1"
            ]
          },
          "metadata": {
            "tags": []
          },
          "execution_count": 4
        }
      ]
    },
    {
      "cell_type": "code",
      "metadata": {
        "id": "JrDJ2rwWD53r",
        "colab_type": "code",
        "colab": {},
        "outputId": "7829f485-bbc0-44c0-f036-23bc0f94986c"
      },
      "source": [
        "hit_rate_at_k(recommended_list, bought_list, 6)"
      ],
      "execution_count": null,
      "outputs": [
        {
          "output_type": "execute_result",
          "data": {
            "text/plain": [
              "1"
            ]
          },
          "metadata": {
            "tags": []
          },
          "execution_count": 5
        }
      ]
    },
    {
      "cell_type": "markdown",
      "metadata": {
        "id": "RytHDSppD53t",
        "colab_type": "text"
      },
      "source": [
        "### 2. Precision\n",
        "\n",
        "*Precision* - доля релевантных товаров среди рекомендованных = Какой % рекомендованных товаров  юзер купил\n",
        "\n",
        "- Пожалуй, самая приближенная к бизнес-метрикам и самая популярная метрика\n",
        "\n",
        "---\n",
        "\n",
        "Precision= (# of recommended items that are relevant) / (# of recommended items)  \n",
        "\n",
        "Precision@k = (# of recommended items @k that are relevant) / (# of recommended items @k)\n",
        "\n",
        "Money Precision@k = (revenue of recommended items @k that are relevant) / (revenue of recommended items @k)  \n",
        "\n",
        "**Note:** Обычно k в precision@k достаточно невелико (5-20) и определяется из бизнес-логики. Например, 5 товаров в e-mail рассылке, 20 ответов на первой странице google и т.д"
      ]
    },
    {
      "cell_type": "code",
      "metadata": {
        "id": "oH1PtBX2D53t",
        "colab_type": "code",
        "colab": {}
      },
      "source": [
        "def precision(recommended_list, bought_list):\n",
        "    \n",
        "    bought_list = np.array(bought_list)\n",
        "    recommended_list = np.array(recommended_list)\n",
        "    \n",
        "    flags = np.isin(bought_list, recommended_list)\n",
        "    \n",
        "    precision = flags.sum() / len(recommended_list)\n",
        "    \n",
        "    return precision\n",
        "\n",
        "\n",
        "def precision_at_k(recommended_list, bought_list, k=5):\n",
        "    \n",
        "    bought_list = np.array(bought_list)\n",
        "    recommended_list = np.array(recommended_list[:k])\n",
        "    \n",
        "    bought_list = bought_list  # Тут нет [:k] !!\n",
        "    \n",
        "    flags = np.isin(bought_list, recommended_list)\n",
        "    \n",
        "    precision = flags.sum() / len(recommended_list)\n",
        "    \n",
        "    \n",
        "    return precision\n",
        "\n",
        "\n",
        "def money_precision_at_k(recommended_list, bought_list, prices_recommended, k=5):\n",
        "        \n",
        "    # your_code\n",
        "    # Лучше считать через скалярное произведение, а не цикл\n",
        "    bought_list = np.array(bought_list)\n",
        "    recommended_list = np.array(recommended_list[:k])\n",
        "    prices_recommended = np.array(prices_recommended[:k])\n",
        "    \n",
        "    flags = np.isin(recommended_list, bought_list)\n",
        "    \n",
        "    sum_bought_prices = np.sum(flags * prices_recommended)\n",
        "    sum_prices_recommended = np.sum(prices_recommended)\n",
        "    \n",
        "    precision = sum_bought_prices / sum_prices_recommended\n",
        "      \n",
        "    return precision"
      ],
      "execution_count": null,
      "outputs": []
    },
    {
      "cell_type": "code",
      "metadata": {
        "id": "N1LI63QqD53v",
        "colab_type": "code",
        "colab": {},
        "outputId": "a48b92fb-3902-44d2-c6dc-64e044675e9c"
      },
      "source": [
        "precision(recommended_list, bought_list)"
      ],
      "execution_count": null,
      "outputs": [
        {
          "output_type": "execute_result",
          "data": {
            "text/plain": [
              "0.2"
            ]
          },
          "metadata": {
            "tags": []
          },
          "execution_count": 7
        }
      ]
    },
    {
      "cell_type": "code",
      "metadata": {
        "id": "jKDDeqpLD53x",
        "colab_type": "code",
        "colab": {},
        "outputId": "12723a4c-87ae-4f9c-9ee1-eb231a57bf50"
      },
      "source": [
        "precision_at_k(recommended_list, bought_list, k=5)"
      ],
      "execution_count": null,
      "outputs": [
        {
          "output_type": "execute_result",
          "data": {
            "text/plain": [
              "0.4"
            ]
          },
          "metadata": {
            "tags": []
          },
          "execution_count": 8
        }
      ]
    },
    {
      "cell_type": "code",
      "metadata": {
        "id": "v4Tvk9hZD53z",
        "colab_type": "code",
        "colab": {},
        "outputId": "877040b7-f4c3-4dca-8632-7acb518bddf0"
      },
      "source": [
        "precision_at_k(recommended_list, bought_list, k=3)"
      ],
      "execution_count": null,
      "outputs": [
        {
          "output_type": "execute_result",
          "data": {
            "text/plain": [
              "0.3333333333333333"
            ]
          },
          "metadata": {
            "tags": []
          },
          "execution_count": 9
        }
      ]
    },
    {
      "cell_type": "code",
      "metadata": {
        "id": "cw7ynBuiD531",
        "colab_type": "code",
        "colab": {},
        "outputId": "eea20664-0c5a-43d2-d32e-6142fa6da6cb"
      },
      "source": [
        "money_precision_at_k(recommended_list, bought_list, prices_recommended, k=5)"
      ],
      "execution_count": null,
      "outputs": [
        {
          "output_type": "execute_result",
          "data": {
            "text/plain": [
              "0.35"
            ]
          },
          "metadata": {
            "tags": []
          },
          "execution_count": 10
        }
      ]
    },
    {
      "cell_type": "markdown",
      "metadata": {
        "id": "Q5MuqiDiD532",
        "colab_type": "text"
      },
      "source": [
        "### 3. Recall\n",
        "\n",
        "*Recall* - доля рекомендованных товаров среди релевантных = Какой % купленных товаров был среди рекомендованных\n",
        "\n",
        "- Обычно используется для моделей пре-фильтрации товаров (убрать те товары, которые точно не будем рекомендовать)\n",
        "\n",
        "---\n",
        "\n",
        "Recall= (# of recommended items that are relevant) / (# of relevant items)  \n",
        "\n",
        "Recall@k = (# of recommended items @k that are relevant) / (# of relevant items)\n",
        "\n",
        "Money Recall@k = (revenue of recommended items @k that are relevant) / (revenue of relevant items)  \n",
        "\n",
        "    \n",
        "  \n",
        "**Note:** в recall@k число k обычно достаточно большое (50-200), больше чем покупок у среднестатистического юзера"
      ]
    },
    {
      "cell_type": "code",
      "metadata": {
        "id": "zXjKHfm5D533",
        "colab_type": "code",
        "colab": {}
      },
      "source": [
        "def recall(recommended_list, bought_list):\n",
        "    \n",
        "    bought_list = np.array(bought_list)\n",
        "    recommended_list = np.array(recommended_list)\n",
        "    \n",
        "    flags = np.isin(bought_list, recommended_list)\n",
        "    \n",
        "    recall = flags.sum() / len(bought_list)\n",
        "    \n",
        "    return recall\n",
        "\n",
        "\n",
        "def recall_at_k(recommended_list, bought_list, k=5):\n",
        "    \n",
        "    # your_code\n",
        "    bought_list = np.array(bought_list[:k])\n",
        "    recommended_list = np.array(recommended_list)\n",
        "    \n",
        "    flags = np.isin(bought_list, recommended_list)\n",
        "    \n",
        "    recall = flags.sum() / len(bought_list)\n",
        "    \n",
        "    return recall\n",
        "\n",
        "\n",
        "def money_recall_at_k(recommended_list, bought_list, prices_recommended, prices_bought, k=5):\n",
        "    \n",
        "    # your_code\n",
        "    bought_list = np.array(bought_list[:k])\n",
        "    recommended_list = np.array(recommended_list)\n",
        "    prices_bought = np.array(prices_bought[:k])\n",
        "    \n",
        "    flags = np.isin(bought_list, recommended_list)\n",
        "    \n",
        "    recall = np.sum(flags * prices_bought) / np.sum(prices_bought)\n",
        "    \n",
        "    return recall"
      ],
      "execution_count": null,
      "outputs": []
    },
    {
      "cell_type": "code",
      "metadata": {
        "id": "k7JtDkv_D535",
        "colab_type": "code",
        "colab": {}
      },
      "source": [
        "recommended_list = [143, 156, 1134, 991, 27, 1543, 3345, 533, 11, 43] #id товаров\n",
        "bought_list = [521, 32, 143, 991]\n",
        "prices_recommended = [100, 200, 300, 250, 150, 80, 220, 180, 130, 270]\n",
        "prices_bought = [160, 450, 100, 250]"
      ],
      "execution_count": null,
      "outputs": []
    },
    {
      "cell_type": "code",
      "metadata": {
        "id": "ktwAhN6ID537",
        "colab_type": "code",
        "colab": {},
        "outputId": "ac0446bd-5245-4e96-fa92-cf1704ab5884"
      },
      "source": [
        "recall(recommended_list, bought_list)"
      ],
      "execution_count": null,
      "outputs": [
        {
          "output_type": "execute_result",
          "data": {
            "text/plain": [
              "0.5"
            ]
          },
          "metadata": {
            "tags": []
          },
          "execution_count": 13
        }
      ]
    },
    {
      "cell_type": "code",
      "metadata": {
        "id": "rMSMDQE1D538",
        "colab_type": "code",
        "colab": {},
        "outputId": "b9a76b08-c8ac-48f1-a98c-1bc07361d563"
      },
      "source": [
        "recall_at_k(recommended_list, bought_list, k=4)"
      ],
      "execution_count": null,
      "outputs": [
        {
          "output_type": "execute_result",
          "data": {
            "text/plain": [
              "0.5"
            ]
          },
          "metadata": {
            "tags": []
          },
          "execution_count": 14
        }
      ]
    },
    {
      "cell_type": "code",
      "metadata": {
        "id": "VulevN2LD53-",
        "colab_type": "code",
        "colab": {},
        "outputId": "6e433a72-f5b8-4829-b906-ccfa33e9d603"
      },
      "source": [
        "money_recall_at_k(recommended_list, bought_list, prices_recommended, prices_bought)"
      ],
      "execution_count": null,
      "outputs": [
        {
          "output_type": "execute_result",
          "data": {
            "text/plain": [
              "0.3645833333333333"
            ]
          },
          "metadata": {
            "tags": []
          },
          "execution_count": 15
        }
      ]
    },
    {
      "cell_type": "markdown",
      "metadata": {
        "id": "zUBjK476D54A",
        "colab_type": "text"
      },
      "source": [
        "---"
      ]
    },
    {
      "cell_type": "markdown",
      "metadata": {
        "id": "UcxnvA59D54A",
        "colab_type": "text"
      },
      "source": [
        "# Метрики ранжирования"
      ]
    },
    {
      "cell_type": "markdown",
      "metadata": {
        "id": "H1v2qZ4eD54A",
        "colab_type": "text"
      },
      "source": [
        "Если важен порядок рекомендаций. Подробнее можно почитать [здесь](https://habr.com/ru/company/econtenta/blog/303458/). Формулы в статье могут несколько отличаться от формул в лекции "
      ]
    },
    {
      "cell_type": "markdown",
      "metadata": {
        "id": "AsXVjtB9D54B",
        "colab_type": "text"
      },
      "source": [
        "## AP@k\n",
        "AP@k - average precision at k\n",
        "\n",
        "$$AP@k = \\frac{1}{r} \\sum{[recommended_{relevant_i}] * precision@k}$$\n",
        "\n",
        "- r - кол-во релевантный среди рекомендованных\n",
        "- Суммируем по всем релевантным товарам\n",
        "- Зависит от порядка реокмендаций"
      ]
    },
    {
      "cell_type": "code",
      "metadata": {
        "id": "VFBMIPvhD54B",
        "colab_type": "code",
        "colab": {}
      },
      "source": [
        "def ap_k(recommended_list: list, bought_list: list, k=5):\n",
        "    \n",
        "    bought_list = np.array(bought_list)\n",
        "    recommended_list = np.array(recommended_list)\n",
        "    \n",
        "    flags = np.isin(recommended_list, bought_list)\n",
        "    \n",
        "    if sum(flags) == 0:\n",
        "        return 0\n",
        "    \n",
        "    sum_ = 0\n",
        "    for i in range(1, k+1):\n",
        "        \n",
        "        if flags[i] == True:\n",
        "            p_k = precision_at_k(recommended_list, bought_list, k=i)\n",
        "            sum_ += p_k\n",
        "            \n",
        "    result = sum_ / sum(flags)\n",
        "    \n",
        "    return result"
      ],
      "execution_count": null,
      "outputs": []
    },
    {
      "cell_type": "code",
      "metadata": {
        "id": "q1inAksXD54D",
        "colab_type": "code",
        "colab": {},
        "outputId": "fb65b208-4696-4070-961d-bfc7fae13c89"
      },
      "source": [
        "ap_k(recommended_list, bought_list, k=5)"
      ],
      "execution_count": null,
      "outputs": [
        {
          "output_type": "execute_result",
          "data": {
            "text/plain": [
              "0.16666666666666666"
            ]
          },
          "metadata": {
            "tags": []
          },
          "execution_count": 17
        }
      ]
    },
    {
      "cell_type": "markdown",
      "metadata": {
        "id": "gbfibRT9D54E",
        "colab_type": "text"
      },
      "source": [
        "### MAP@k\n",
        "\n",
        "MAP@k (Mean Average Precision@k)  \n",
        "Среднее AP@k по всем юзерам\n",
        "- Показывает средневзвешенную точность рекомендаций\n",
        "\n",
        "$$MAP@k = \\frac{1}{|U|} \\sum_u{AP_k}$$\n",
        "  \n",
        "|U| - кол-во юзеров"
      ]
    },
    {
      "cell_type": "code",
      "metadata": {
        "id": "2xToZnlhD54F",
        "colab_type": "code",
        "colab": {}
      },
      "source": [
        "recommended_list_some_users = [[143, 156, 1134, 991, 27, 1543, 3345, 533, 11, 43], [143, 156, 1134, 991, 27, 1543, 3345, 533, 11, 43]] #id товаров\n",
        "bought_list_some_users = [[521, 32, 143, 991], [27, 11, 143, 991]]"
      ],
      "execution_count": null,
      "outputs": []
    },
    {
      "cell_type": "code",
      "metadata": {
        "id": "iVwdpjn6D54G",
        "colab_type": "code",
        "colab": {}
      },
      "source": [
        "def map_k(recommended_list_some_users: list, bought_list_some_users: list, k=5):\n",
        "    \n",
        "    # your_code\n",
        "    recommended_list_some_users = np.array(recommended_list_some_users)\n",
        "    bought_list_some_users = np.array(bought_list_some_users)\n",
        "    \n",
        "    if recommended_list_some_users.shape[0] != bought_list_some_users.shape[0]:\n",
        "        return print('wrong number of users')\n",
        "    \n",
        "    number_of_users = recommended_list_some_users.shape[0]\n",
        "    \n",
        "    sum_ap_k = 0\n",
        "    sum_ap_k_list = []\n",
        "    \n",
        "    for i in range(number_of_users):\n",
        "        sum_ap_k += ap_k(recommended_list_some_users[i], bought_list_some_users[i], k)\n",
        "        sum_ap_k_list.append(ap_k(recommended_list_some_users[i], bought_list_some_users[i], k))\n",
        "        \n",
        "    result = sum_ap_k / number_of_users\n",
        "    result2 = np.mean(np.array(sum_ap_k_list))\n",
        "    print(f'result sum = {result}, result mean = {result2}')\n",
        "    \n",
        "    return result"
      ],
      "execution_count": null,
      "outputs": []
    },
    {
      "cell_type": "code",
      "metadata": {
        "id": "1RBZaXywD54I",
        "colab_type": "code",
        "colab": {},
        "outputId": "743ec514-c254-4297-c74a-58df1727fbc2"
      },
      "source": [
        "map_k(recommended_list_some_users, bought_list_some_users, k=5)"
      ],
      "execution_count": null,
      "outputs": [
        {
          "output_type": "stream",
          "text": [
            "result sum = 0.1875, result mean = 0.1875\n"
          ],
          "name": "stdout"
        },
        {
          "output_type": "execute_result",
          "data": {
            "text/plain": [
              "0.1875"
            ]
          },
          "metadata": {
            "tags": []
          },
          "execution_count": 20
        }
      ]
    },
    {
      "cell_type": "markdown",
      "metadata": {
        "id": "3r69G6-HD54J",
        "colab_type": "text"
      },
      "source": [
        "### AUC@k\n",
        "AUC для первых k наблюдений  \n",
        "- Можно посчитать как sklern.metrics.roc_auc_score для топ-k предсказаний\n",
        "- Показывает долю верно отранжированных товаров"
      ]
    },
    {
      "cell_type": "markdown",
      "metadata": {
        "id": "Vq6X_ysfD54J",
        "colab_type": "text"
      },
      "source": [
        "### NDCG@k\n",
        "Normalized discounted cumulative gain\n",
        "\n",
        "$$DCG = \\frac{1}{|r|} \\sum_u{\\frac{[bought fact]}{discount(i)}}$$  \n",
        "\n",
        "$discount(i) = 1$ if $i <= 2$,   \n",
        "$discount(i) = log_2(i)$ if $i > 2$\n",
        "\n",
        "\n",
        "(!) Считаем для первых k рекоммендаций   \n",
        "(!) - существуют вариации с другими $discount(i)$  \n",
        "i - ранк рекомендованного товара  \n",
        "|r| - кол-во рекомендованных товаров \n",
        "\n",
        "$$NDCG = \\frac{DCG}{ideal DCG}$$\n"
      ]
    },
    {
      "cell_type": "code",
      "metadata": {
        "id": "Ctcor-OkD54K",
        "colab_type": "code",
        "colab": {}
      },
      "source": [
        "recommended_list = [143, 156, 1134, 991, 27, 1543, 3345, 533, 11, 43] #id товаров\n",
        "bought_list = [521, 32, 143, 991]"
      ],
      "execution_count": null,
      "outputs": []
    },
    {
      "cell_type": "markdown",
      "metadata": {
        "id": "Ya-DZOpgD54L",
        "colab_type": "text"
      },
      "source": [
        "$DCG@5 = \\frac{1}{5}*(1 / 1 + 0 / 2 + 0 / log(3) + 1 / log(4) + 0 / log(5))$  \n",
        "$ideal DCG@5 = \\frac{1}{5}*(1 / 1 + 1 / 2 + 1 / log(3) + 1 / log(4) + 1 / log(5))$  \n",
        "\n",
        "$NDCG = \\frac{DCG}{ideal DCG}$"
      ]
    },
    {
      "cell_type": "markdown",
      "metadata": {
        "id": "gh5XVZIND54L",
        "colab_type": "text"
      },
      "source": [
        "### MRR@k\n",
        "Mean Reciprocal Rank\n",
        "\n",
        "- Считаем для первых k рекоммендаций\n",
        "- Найти ранк первого релевантного предсказания $k_u$\n",
        "- Посчитать reciprocal rank = $\\frac{1}{k_u}$\n",
        "\n",
        "$$MRR = mean(\\frac{1}{k_u})$$"
      ]
    },
    {
      "cell_type": "code",
      "metadata": {
        "id": "5aJV2t0YD54M",
        "colab_type": "code",
        "colab": {}
      },
      "source": [
        "def reciprocal_rank(recommended_list, bought_list, k=5):\n",
        "    # your_code\n",
        "    recommended_list = np.array(recommended_list[:k])\n",
        "    bought_list = np.array(bought_list)\n",
        "    \n",
        "    flags = np.isin(recommended_list, bought_list)\n",
        "    \n",
        "    if flags.sum() == 0:\n",
        "        return 0\n",
        "    \n",
        "    rank = np.argmax(flags) + 1\n",
        "    \n",
        "    result = 1 / rank    \n",
        "    \n",
        "    return result"
      ],
      "execution_count": null,
      "outputs": []
    },
    {
      "cell_type": "code",
      "metadata": {
        "id": "nPQ6s-KQD54O",
        "colab_type": "code",
        "colab": {},
        "outputId": "0f4e8642-0943-4209-e8fc-e597fe7db63d"
      },
      "source": [
        "reciprocal_rank(recommended_list, bought_list, k=5)"
      ],
      "execution_count": null,
      "outputs": [
        {
          "output_type": "execute_result",
          "data": {
            "text/plain": [
              "1.0"
            ]
          },
          "metadata": {
            "tags": []
          },
          "execution_count": 23
        }
      ]
    }
  ]
}